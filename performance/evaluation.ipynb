{
 "cells": [
  {
   "cell_type": "markdown",
   "metadata": {},
   "source": [
    "# evaluating entities"
   ]
  },
  {
   "cell_type": "code",
   "execution_count": 2,
   "metadata": {},
   "outputs": [
    {
     "name": "stdout",
     "output_type": "stream",
     "text": [
      "5485505111\n",
      "E221\tProblem:T221 Assertion:T222\n",
      "4959313770\n",
      "E109\tDrug:T109\n",
      "4959313770\n",
      "E113\tDrug:T113\n",
      "6073394145\n",
      "E72\tProblem:T72 Assertion:T73\n"
     ]
    }
   ],
   "source": [
    "from evaluate import *\n",
    "pred_file='../dataset/spert/predictions/intra-sent.json'\n",
    "source_file='../dataset/spert/test_combined.json'\n",
    "out_dir='../dataset/spert/predictions/BRAT'\n",
    "ann_path='../dataset/BRAT/test'\n",
    "#offset_key,start_key,end_key=\"tokens\",'start','end'\n",
    "offset_key,start_key,end_key=\"token_offsets\",0,1\n",
    "json2brat(source_file,ann_path,offset_key,start_key,end_key,pred_file,out_dir)"
   ]
  },
  {
   "cell_type": "code",
   "execution_count": 3,
   "metadata": {},
   "outputs": [],
   "source": [
    "# summarizing entity performance\n",
    "\n",
    "from glob import glob\n",
    "exps=['spert']\n",
    "for exp in exps:\n",
    "        scores={\n",
    "        \"Drug,Trigger\":[0,0,0],\n",
    "        \"Problem,Trigger\":[0,0,0],\n",
    "        \"Problem,Assertion\":[0,0,0],\n",
    "        \"Problem,Change\":[0,0,0],\n",
    "        \"Problem,Severity\":[0,0,0],\n",
    "        \"Problem,Anatomy\":[0,0,0],\n",
    "        \"Problem,Characteristics\":[0,0,0],\n",
    "        \"Problem,Duration\":[0,0,0],\n",
    "        \"Problem,Frequency\":[0,0,0],\n",
    "        }\n",
    "\n",
    "        for file in glob(f'../dataset/{exp}/predictions/*.csv'):\n",
    "            if exp in file and '_detailed.csv' in file:\n",
    "                lines=open(file).read().split('\\n')[1:]\n",
    "                out_ids=[]\n",
    "                for line in lines:\n",
    "                    if 'Problem,Trigger' in line and float(line.split(',')[-1])==0.5:\n",
    "                        out_ids.append(line.split(',')[0])\n",
    "                    \n",
    "                for line in lines:\n",
    "                    if line:\n",
    "                        words=line.split(',')[1:]\n",
    "                        key=','.join(words[:2])\n",
    "                        if key not in scores:\n",
    "                            #print(key)\n",
    "                            continue\n",
    "                        if any([id in line for id in out_ids]):\n",
    "                            #print(line)\n",
    "                            continue\n",
    "                        if words[3]!='0':\n",
    "                            for i in range(3):\n",
    "                                scores[key][i]+=int(words[i+3])\n",
    "        scores['Overall,-']=[0,0,0]\n",
    "        for i in range(3):\n",
    "            scores['Overall,-'][i]=sum([v[i] for k,v in scores.items()])\n",
    "\n",
    "        with open(f'../performance/entity_{exp}.csv','w') as f:\n",
    "            f.write('event,Argument,NT,NP,TP,P,R,F1\\n')\n",
    "            for key in scores:     \n",
    "                f.write(key+','+','.join([str(s) for s in scores[key]]))\n",
    "                P=scores[key][2]*100.0/scores[key][1] if scores[key][1] else 0\n",
    "                R=scores[key][2]*100.0/scores[key][0] if scores[key][0] else 0\n",
    "                F1=2*P*R/(P+R) if R+P else 0\n",
    "                f.write(f\",{round(P,1)},{round(R,1)},{round(F1,1)}\\n\")"
   ]
  },
  {
   "cell_type": "markdown",
   "metadata": {},
   "source": [
    "# evaluating relations"
   ]
  },
  {
   "cell_type": "code",
   "execution_count": 3,
   "metadata": {},
   "outputs": [],
   "source": [
    "# converting from plmarker to spert json\n",
    "from evaluate import *\n",
    "source_file='../dataset/plmarker/test_plmarker.jsonl'\n",
    "exp='R15_re'\n",
    "pred_ent_file=f'/home/velvinfu/code/PL-Marker/experiments/{exp}/ner_pred_results.json'\n",
    "pred_re_file=f'/home/velvinfu/code/PL-Marker/experiments/{exp}/re_pred_results.json'\n",
    "out_file=f'../dataset/plmarker/predictions/intra_re.json'\n",
    "\n",
    "plmarkerPred2json(source_file,pred_ent_file,pred_re_file,out_file)"
   ]
  },
  {
   "cell_type": "code",
   "execution_count": 5,
   "metadata": {},
   "outputs": [],
   "source": [
    "from evaluate import *\n",
    "model='plmarker'#{spert}\n",
    "exp='intra-re'\n",
    "pred_file=f'../dataset/{model}/predictions/{exp}.json'\n",
    "source_file='../dataset/spert/test_combined.json'\n",
    "out_file=f'../performance/{model}_{exp}.csv'\n",
    "error_file=f'../performance/{model}_{exp}_error.json'\n",
    "score_relations(pred_file,source_file,out_file,error_file)"
   ]
  }
 ],
 "metadata": {
  "kernelspec": {
   "display_name": "py310",
   "language": "python",
   "name": "python3"
  },
  "language_info": {
   "codemirror_mode": {
    "name": "ipython",
    "version": 3
   },
   "file_extension": ".py",
   "mimetype": "text/x-python",
   "name": "python",
   "nbconvert_exporter": "python",
   "pygments_lexer": "ipython3",
   "version": "3.10.9"
  }
 },
 "nbformat": 4,
 "nbformat_minor": 2
}
