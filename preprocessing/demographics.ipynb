{
 "cells": [
  {
   "cell_type": "markdown",
   "metadata": {},
   "source": [
    "# reading the query results from SQL"
   ]
  },
  {
   "cell_type": "code",
   "execution_count": null,
   "metadata": {},
   "outputs": [],
   "source": [
    "# reading the query result\n",
    "filename='demographics/orca_note.txt'\n",
    "lines=[line.strip() for line in open(filename).read().split('\\n') if line.strip()]\n",
    "keys=[key.strip() for key in lines[0].split('\\t') if key]\n",
    "\n",
    "output={}\n",
    "for line in lines[1:]:\n",
    "    values=[v.strip() for v in line.split('\\t')]\n",
    "    assert len(values)==len(keys)\n",
    "    output[values[1]]={}\n",
    "    for k,v in zip(keys,values):\n",
    "        output[values[1]][k]=v\n",
    "\n",
    "# for t in patient_ids:\n",
    "#     assert patient_ids.count(t)==1,patient_ids.count(t)\n",
    "print(len(output))"
   ]
  },
  {
   "cell_type": "code",
   "execution_count": null,
   "metadata": {},
   "outputs": [],
   "source": [
    "query=f'use r21_symptom;\\nselect * from demographic where study_id in ({\",\".join(set(output.keys()))});'\n",
    "with open('demographics/demographics_query.txt','w') as f:\n",
    "    f.write(query)"
   ]
  },
  {
   "cell_type": "code",
   "execution_count": null,
   "metadata": {},
   "outputs": [],
   "source": [
    "# summarizing the output\n",
    "filename='demographics/demographics.txt'\n",
    "lines=[line.strip() for line in open(filename).read().split('\\n') if line.strip()]\n",
    "keys=[key.strip().lower() for key in lines[0].split('\\t') if key]\n",
    "\n",
    "for line in lines[1:]:\n",
    "    values=[v.strip() for v in line.split('\\t')]\n",
    "    assert len(values)==len(keys)\n",
    "    id=values[0]\n",
    "    for dk in output:\n",
    "        if output[dk][keys[0]]==id:\n",
    "            for k,v in zip(keys,values):\n",
    "                output[dk][k]=v\n",
    "\n",
    "# for t in patient_ids:\n",
    "#     assert patient_ids.count(t)==1,patient_ids.count(t)\n",
    "import json\n",
    "print(len(output))\n",
    "with open('demographics/summary.json','w') as f:\n",
    "    json.dump(output,f,indent=4)"
   ]
  },
  {
   "cell_type": "markdown",
   "metadata": {},
   "source": [
    "# split the dataset into train/valid/test"
   ]
  },
  {
   "cell_type": "code",
   "execution_count": 87,
   "metadata": {},
   "outputs": [],
   "source": [
    "# spliting \n",
    "import json\n",
    "from collections import Counter\n",
    "import random\n",
    "import shutil\n",
    "import os\n",
    "\n",
    "\n",
    "for split in ['train','valid','test']:\n",
    "    #shutil.rmtree(f'R15_dataset_paper/final4/{split}')\n",
    "    os.makedirs(f'R15_dataset_paper/final4/{split}',exist_ok=True)\n",
    "\n",
    "\n",
    "demos=json.loads(open('demographics/summary.json').read())\n",
    "split='test'\n",
    "output={\n",
    "    'test':115,\n",
    "    'valid':47\n",
    "}\n",
    "\n",
    "# split='train'\n",
    "# output={\n",
    "#     'train':400,\n",
    "#     'valid':13\n",
    "# }\n",
    "\n",
    "ids=glob(f'R15_dataset_paper/final3/{split}_cleaned/*.ann')\n",
    "doc_ids=[id.split('/')[-1].split('.')[0] for id in ids]\n",
    "ppl_ids=[demos[id][\"study_id\"] for id in doc_ids]\n",
    "\n",
    "if split=='test':\n",
    "    total=0\n",
    "    valid_pids=[]\n",
    "    for sid,count in Counter(ppl_ids).most_common():\n",
    "        if count>=2:\n",
    "            total+=count\n",
    "            valid_pids.append(sid)\n",
    "else:\n",
    "    valid_pids=['3550','2203','3741'] \n",
    "    total=8\n",
    "valid_ids=[id for idx,id in enumerate(doc_ids) if ppl_ids[idx] in valid_pids]\n",
    "\n",
    "\n",
    "single_idx=[doc_ids[idx] for idx,pid in enumerate(ppl_ids) if ppl_ids.count(pid)==1 and pid not in valid_pids]\n",
    "valid_ids.extend(single_idx[:output['valid']-total])\n",
    "\n",
    "\n",
    "for id in doc_ids:\n",
    "    if id not in valid_ids:\n",
    "        shutil.copy(f'R15_dataset_paper/final3/{split}_cleaned/{id}.ann',f'R15_dataset_paper/final4/{split}/{id}.ann')\n",
    "        shutil.copy(f'R15_dataset_paper/final3/{split}_cleaned/{id}.txt',f'R15_dataset_paper/final4/{split}/{id}.txt') \n",
    "    else:\n",
    "        shutil.copy(f'R15_dataset_paper/final3/{split}_cleaned/{id}.ann',f'R15_dataset_paper/final4/valid/{id}.ann')\n",
    "        shutil.copy(f'R15_dataset_paper/final3/{split}_cleaned/{id}.txt',f'R15_dataset_paper/final4/valid/{id}.txt')      "
   ]
  },
  {
   "cell_type": "code",
   "execution_count": 91,
   "metadata": {},
   "outputs": [
    {
     "name": "stdout",
     "output_type": "stream",
     "text": [
      "400 60 115\n",
      "306 43 115\n"
     ]
    }
   ],
   "source": [
    "# checking the numbers \n",
    "from glob import glob\n",
    "import os\n",
    "import shutil\n",
    "train_ids=[file.split('/')[-1].split('.')[0] for file in \\\n",
    "           glob('R15_dataset_paper/final4/train/*.txt')]\n",
    "assert len(train_ids)==len(set(train_ids))\n",
    "valid_ids=[file.split('/')[-1].split('.')[0] for file in \\\n",
    "           glob('R15_dataset_paper/final4/valid/*.txt')]\n",
    "assert len(train_ids)==len(set(train_ids))\n",
    "test_ids=[file.split('/')[-1].split('.')[0] for file in \\\n",
    "           glob('R15_dataset_paper/final4/test/*.txt')]\n",
    "assert len(train_ids)==len(set(train_ids))\n",
    "print(len(train_ids),len(valid_ids),len(test_ids))\n",
    "\n",
    "# checking for non-overlap\n",
    "train_pids=[demos[id][\"study_id\"] for id in train_ids]\n",
    "valid_pids=[demos[id][\"study_id\"] for id in valid_ids]\n",
    "test_pids=[demos[id][\"study_id\"] for id in test_ids]\n",
    "print(len(set(train_pids)),len(set(valid_pids)),len(set(test_pids)))\n",
    "\n",
    "assert [id for id in train_pids if id in valid_pids]==[], [id for id in train_pids if id in valid_pids]\n",
    "assert [id for id in train_pids if id in test_pids]==[]\n",
    "\n",
    "assert [id for id in valid_pids if id in train_pids]==[]\n",
    "assert [id for id in valid_pids if id in test_pids]==[]\n",
    "\n",
    "assert [id for id in test_pids if id in train_pids]==[]\n",
    "assert [id for id in test_pids if id in valid_pids]==[]\n"
   ]
  },
  {
   "cell_type": "markdown",
   "metadata": {},
   "source": [
    "# outputing the summaries"
   ]
  },
  {
   "cell_type": "code",
   "execution_count": 92,
   "metadata": {},
   "outputs": [],
   "source": [
    "import json\n",
    "demographics=json.loads(open('demographics/summary.json').read())\n",
    "\n",
    "all_ids={\n",
    "    'train':train_ids,\n",
    "    'valid':valid_ids,\n",
    "    'test':test_ids\n",
    "}\n",
    "# note types\n",
    "with open('demographics/summary.csv','w') as f:\n",
    "    f.write('Type,Subtype,Train,Valid,Test\\n')\n",
    "    for key in ['event_cd_descr','prov_specialty','sex','dlbclpatient','prostatecancerpatient']:\n",
    "        types=set([dic[key] for v,dic in demographics.items()])\n",
    "        counts=[]\n",
    "        for type in types:\n",
    "            f.write(f'{key},{type},')\n",
    "            for split in all_ids:\n",
    "                subset=[dic[key] for v,dic in demographics.items() if v in all_ids[split]]\n",
    "                f.write(f'{subset.count(type)},')\n",
    "            f.write('\\n')\n",
    "        unique_patients=[]\n",
    "        for split in all_ids:\n",
    "            unique_patients.append([dic[\"study_id\"] for v,dic in demographics.items() if v in all_ids[split]])\n",
    "        for i,j in [[0,2],[1,2],[2,1],[2,0]]:\n",
    "                for t1 in unique_patients[i]:\n",
    "                    assert t1 not in unique_patients[j], [i,j]\n",
    "        f.write(f'#unique patients,-,{len(set(unique_patients[0]))},{len(set(unique_patients[1]))},{len(set(unique_patients[2]))}')\n",
    "        f.write('\\n')"
   ]
  },
  {
   "cell_type": "markdown",
   "metadata": {},
   "source": [
    "# summarizing the counts"
   ]
  },
  {
   "cell_type": "code",
   "execution_count": 2,
   "metadata": {},
   "outputs": [],
   "source": [
    "from glob import glob\n",
    "exps=['train','valid','test']\n",
    "for exp in exps:\n",
    "        scores={\n",
    "        \"Drug,Trigger\":[0,0,0],\n",
    "        \"Problem,Trigger\":[0,0,0],\n",
    "        \"Problem,Assertion\":[0,0,0],\n",
    "        \"Problem,Change\":[0,0,0],\n",
    "        \"Problem,Severity\":[0,0,0],\n",
    "        \"Problem,Anatomy\":[0,0,0],\n",
    "        \"Problem,Characteristics\":[0,0,0],\n",
    "        \"Problem,Duration\":[0,0,0],\n",
    "        \"Problem,Frequency\":[0,0,0],\n",
    "        }\n",
    "\n",
    "        for file in glob('../dataset/BRAT/*.csv'):\n",
    "            if exp in file and '_detailed.csv' in file:\n",
    "                lines=open(file).read().split('\\n')[1:]\n",
    "                out_ids=[]\n",
    "                for line in lines:\n",
    "                    if 'Problem,Trigger' in line and float(line.split(',')[-1])==0.5:\n",
    "                        out_ids.append(line.split(',')[0])\n",
    "                    \n",
    "                for line in lines:\n",
    "                    if line:\n",
    "                        words=line.split(',')[1:]\n",
    "                        key=','.join(words[:2])\n",
    "                        if key not in scores:\n",
    "                            #print(key)\n",
    "                            continue\n",
    "                        if any([id in line for id in out_ids]):\n",
    "                            #print(line)\n",
    "                            continue\n",
    "                        if words[3]!='0':\n",
    "                            for i in range(3):\n",
    "                                scores[key][i]+=int(words[i+3])\n",
    "        scores['Overall,-']=[0,0,0]\n",
    "        for i in range(3):\n",
    "            scores['Overall,-'][i]=sum([v[i] for k,v in scores.items()])\n",
    "\n",
    "        with open(f'../performance/entity_counts_{exp}.csv','w') as f:\n",
    "            f.write('event,Argument,NT,NP,TP,P,R,F1\\n')\n",
    "            for key in scores:     \n",
    "                f.write(key+','+','.join([str(s) for s in scores[key]]))\n",
    "                P=scores[key][2]*100.0/scores[key][1] if scores[key][1] else 0\n",
    "                R=scores[key][2]*100.0/scores[key][0] if scores[key][0] else 0\n",
    "                F1=2*P*R/(P+R) if R+P else 0\n",
    "                f.write(f\",{round(P,1)},{round(R,1)},{round(F1,1)}\\n\")"
   ]
  }
 ],
 "metadata": {
  "kernelspec": {
   "display_name": "py310",
   "language": "python",
   "name": "python3"
  },
  "language_info": {
   "codemirror_mode": {
    "name": "ipython",
    "version": 3
   },
   "file_extension": ".py",
   "mimetype": "text/x-python",
   "name": "python",
   "nbconvert_exporter": "python",
   "pygments_lexer": "ipython3",
   "version": "3.10.9"
  }
 },
 "nbformat": 4,
 "nbformat_minor": 2
}
